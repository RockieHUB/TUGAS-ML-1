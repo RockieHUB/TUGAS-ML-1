{
 "cells": [
  {
   "cell_type": "markdown",
   "id": "behind-gnome",
   "metadata": {
    "id": "behind-gnome"
   },
   "source": [
    "# Tugas Besar Pembelajaran Mesin"
   ]
  },
  {
   "cell_type": "markdown",
   "id": "under-michael",
   "metadata": {
    "id": "under-michael"
   },
   "source": [
    "Muhammad Rizky Irsyad - 1301180347 - IF-42-08"
   ]
  },
  {
   "cell_type": "markdown",
   "id": "immune-spyware",
   "metadata": {
    "id": "immune-spyware"
   },
   "source": [
    "## 1. Evaluasi Masalah\n",
    "Berdasarkan dataset yang telah diberikan, Goals atau tujuan akhir dari tugas ini adalah untuk mengelompokkan data yang diberikan ke berbagai cluster data."
   ]
  },
  {
   "cell_type": "markdown",
   "id": "ignored-latino",
   "metadata": {
    "id": "ignored-latino"
   },
   "source": [
    "## 2. Data Preprocessing\n",
    "Langkah pertama yang dapat kita lakukan adalah import library-library yang dibutuhkan untuk mengolah data dan fungsi yang membantu untuk membangun model"
   ]
  },
  {
   "cell_type": "code",
   "execution_count": 1,
   "id": "contrary-teacher",
   "metadata": {
    "id": "contrary-teacher"
   },
   "outputs": [],
   "source": [
    "import numpy as np\n",
    "import pandas as pd\n",
    "import copy\n",
    "from scipy.spatial.distance import cdist\n",
    "from sklearn.decomposition import PCA\n",
    "from sklearn.preprocessing import OrdinalEncoder\n",
    "from sklearn.preprocessing import MinMaxScaler\n",
    "import matplotlib.pyplot as plt"
   ]
  },
  {
   "cell_type": "markdown",
   "id": "separated-issue",
   "metadata": {
    "id": "separated-issue"
   },
   "source": [
    "Selanjutnya kita mulai untuk membersihkan data"
   ]
  },
  {
   "cell_type": "code",
   "execution_count": 2,
   "id": "quiet-lobby",
   "metadata": {
    "colab": {
     "base_uri": "https://localhost:8080/",
     "height": 226
    },
    "id": "quiet-lobby",
    "outputId": "c46e39be-adf6-41fb-abb6-8557c5e89c49",
    "scrolled": true
   },
   "outputs": [
    {
     "data": {
      "text/html": [
       "<div>\n",
       "<style scoped>\n",
       "    .dataframe tbody tr th:only-of-type {\n",
       "        vertical-align: middle;\n",
       "    }\n",
       "\n",
       "    .dataframe tbody tr th {\n",
       "        vertical-align: top;\n",
       "    }\n",
       "\n",
       "    .dataframe thead th {\n",
       "        text-align: right;\n",
       "    }\n",
       "</style>\n",
       "<table border=\"1\" class=\"dataframe\">\n",
       "  <thead>\n",
       "    <tr style=\"text-align: right;\">\n",
       "      <th></th>\n",
       "      <th>id</th>\n",
       "      <th>Jenis_Kelamin</th>\n",
       "      <th>Umur</th>\n",
       "      <th>SIM</th>\n",
       "      <th>Kode_Daerah</th>\n",
       "      <th>Sudah_Asuransi</th>\n",
       "      <th>Umur_Kendaraan</th>\n",
       "      <th>Kendaraan_Rusak</th>\n",
       "      <th>Premi</th>\n",
       "      <th>Kanal_Penjualan</th>\n",
       "      <th>Lama_Berlangganan</th>\n",
       "      <th>Tertarik</th>\n",
       "    </tr>\n",
       "  </thead>\n",
       "  <tbody>\n",
       "    <tr>\n",
       "      <th>0</th>\n",
       "      <td>1</td>\n",
       "      <td>Wanita</td>\n",
       "      <td>30.0</td>\n",
       "      <td>1.0</td>\n",
       "      <td>33.0</td>\n",
       "      <td>1.0</td>\n",
       "      <td>&lt; 1 Tahun</td>\n",
       "      <td>Tidak</td>\n",
       "      <td>28029.0</td>\n",
       "      <td>152.0</td>\n",
       "      <td>97.0</td>\n",
       "      <td>0</td>\n",
       "    </tr>\n",
       "    <tr>\n",
       "      <th>1</th>\n",
       "      <td>2</td>\n",
       "      <td>Pria</td>\n",
       "      <td>48.0</td>\n",
       "      <td>1.0</td>\n",
       "      <td>39.0</td>\n",
       "      <td>0.0</td>\n",
       "      <td>&gt; 2 Tahun</td>\n",
       "      <td>Pernah</td>\n",
       "      <td>25800.0</td>\n",
       "      <td>29.0</td>\n",
       "      <td>158.0</td>\n",
       "      <td>0</td>\n",
       "    </tr>\n",
       "    <tr>\n",
       "      <th>2</th>\n",
       "      <td>3</td>\n",
       "      <td>NaN</td>\n",
       "      <td>21.0</td>\n",
       "      <td>1.0</td>\n",
       "      <td>46.0</td>\n",
       "      <td>1.0</td>\n",
       "      <td>&lt; 1 Tahun</td>\n",
       "      <td>Tidak</td>\n",
       "      <td>32733.0</td>\n",
       "      <td>160.0</td>\n",
       "      <td>119.0</td>\n",
       "      <td>0</td>\n",
       "    </tr>\n",
       "    <tr>\n",
       "      <th>3</th>\n",
       "      <td>4</td>\n",
       "      <td>Wanita</td>\n",
       "      <td>58.0</td>\n",
       "      <td>1.0</td>\n",
       "      <td>48.0</td>\n",
       "      <td>0.0</td>\n",
       "      <td>1-2 Tahun</td>\n",
       "      <td>Tidak</td>\n",
       "      <td>2630.0</td>\n",
       "      <td>124.0</td>\n",
       "      <td>63.0</td>\n",
       "      <td>0</td>\n",
       "    </tr>\n",
       "    <tr>\n",
       "      <th>4</th>\n",
       "      <td>5</td>\n",
       "      <td>Pria</td>\n",
       "      <td>50.0</td>\n",
       "      <td>1.0</td>\n",
       "      <td>35.0</td>\n",
       "      <td>0.0</td>\n",
       "      <td>&gt; 2 Tahun</td>\n",
       "      <td>NaN</td>\n",
       "      <td>34857.0</td>\n",
       "      <td>88.0</td>\n",
       "      <td>194.0</td>\n",
       "      <td>0</td>\n",
       "    </tr>\n",
       "  </tbody>\n",
       "</table>\n",
       "</div>"
      ],
      "text/plain": [
       "   id Jenis_Kelamin  Umur  ...  Kanal_Penjualan  Lama_Berlangganan  Tertarik\n",
       "0   1        Wanita  30.0  ...            152.0               97.0         0\n",
       "1   2          Pria  48.0  ...             29.0              158.0         0\n",
       "2   3           NaN  21.0  ...            160.0              119.0         0\n",
       "3   4        Wanita  58.0  ...            124.0               63.0         0\n",
       "4   5          Pria  50.0  ...             88.0              194.0         0\n",
       "\n",
       "[5 rows x 12 columns]"
      ]
     },
     "execution_count": 2,
     "metadata": {
      "tags": []
     },
     "output_type": "execute_result"
    }
   ],
   "source": [
    "df = pd.read_csv('kendaraan_train-Copy1.csv')\n",
    "df.head()"
   ]
  },
  {
   "cell_type": "markdown",
   "id": "mysterious-chamber",
   "metadata": {
    "id": "mysterious-chamber"
   },
   "source": [
    "Selanjutnya kita mulai dengan mencari missing value pada dataset"
   ]
  },
  {
   "cell_type": "code",
   "execution_count": 3,
   "id": "informal-tension",
   "metadata": {
    "colab": {
     "base_uri": "https://localhost:8080/"
    },
    "id": "informal-tension",
    "outputId": "3969984b-a225-4e9d-a107-06a6864243b2"
   },
   "outputs": [
    {
     "name": "stdout",
     "output_type": "stream",
     "text": [
      "<class 'pandas.core.frame.DataFrame'>\n",
      "RangeIndex: 285831 entries, 0 to 285830\n",
      "Data columns (total 12 columns):\n",
      " #   Column             Non-Null Count   Dtype  \n",
      "---  ------             --------------   -----  \n",
      " 0   id                 285831 non-null  int64  \n",
      " 1   Jenis_Kelamin      271391 non-null  object \n",
      " 2   Umur               271617 non-null  float64\n",
      " 3   SIM                271427 non-null  float64\n",
      " 4   Kode_Daerah        271525 non-null  float64\n",
      " 5   Sudah_Asuransi     271602 non-null  float64\n",
      " 6   Umur_Kendaraan     271556 non-null  object \n",
      " 7   Kendaraan_Rusak    271643 non-null  object \n",
      " 8   Premi              271262 non-null  float64\n",
      " 9   Kanal_Penjualan    271532 non-null  float64\n",
      " 10  Lama_Berlangganan  271839 non-null  float64\n",
      " 11  Tertarik           285831 non-null  int64  \n",
      "dtypes: float64(7), int64(2), object(3)\n",
      "memory usage: 26.2+ MB\n"
     ]
    }
   ],
   "source": [
    "df.info()"
   ]
  },
  {
   "cell_type": "markdown",
   "id": "scheduled-discount",
   "metadata": {
    "id": "scheduled-discount"
   },
   "source": [
    "Bisa dilihat kalau terdapat banyak baris yang tidak memiliki data, kita akan drop baris-baris tersebut. Sebenarnya, ada cara lain untuk mengatasi missing value pada suatu dataset, Namun disini saya memilih untuk drop baris karena data yang cukup banyak."
   ]
  },
  {
   "cell_type": "code",
   "execution_count": 4,
   "id": "utility-customer",
   "metadata": {
    "colab": {
     "base_uri": "https://localhost:8080/"
    },
    "id": "utility-customer",
    "outputId": "d45758fd-49f0-45c7-edd3-62c960c46b1d"
   },
   "outputs": [
    {
     "name": "stdout",
     "output_type": "stream",
     "text": [
      "<class 'pandas.core.frame.DataFrame'>\n",
      "Int64Index: 171068 entries, 0 to 285830\n",
      "Data columns (total 12 columns):\n",
      " #   Column             Non-Null Count   Dtype  \n",
      "---  ------             --------------   -----  \n",
      " 0   id                 171068 non-null  int64  \n",
      " 1   Jenis_Kelamin      171068 non-null  object \n",
      " 2   Umur               171068 non-null  float64\n",
      " 3   SIM                171068 non-null  float64\n",
      " 4   Kode_Daerah        171068 non-null  float64\n",
      " 5   Sudah_Asuransi     171068 non-null  float64\n",
      " 6   Umur_Kendaraan     171068 non-null  object \n",
      " 7   Kendaraan_Rusak    171068 non-null  object \n",
      " 8   Premi              171068 non-null  float64\n",
      " 9   Kanal_Penjualan    171068 non-null  float64\n",
      " 10  Lama_Berlangganan  171068 non-null  float64\n",
      " 11  Tertarik           171068 non-null  int64  \n",
      "dtypes: float64(7), int64(2), object(3)\n",
      "memory usage: 17.0+ MB\n"
     ]
    }
   ],
   "source": [
    "df.dropna(inplace=True)\n",
    "df.info()"
   ]
  },
  {
   "cell_type": "markdown",
   "id": "weird-trace",
   "metadata": {
    "id": "weird-trace"
   },
   "source": [
    "Selanjutnya kita mulai dengan drop Label \"Tertarik\", karena tujuan dari algoritma k-means adalah untuk clustering data bukan untuk prediksi suatu label. Namun, disini kita akan melakukannya dengan df2 agar tetap menjaga originalitas data yang belum dimodifikasi"
   ]
  },
  {
   "cell_type": "code",
   "execution_count": 5,
   "id": "personalized-kernel",
   "metadata": {
    "colab": {
     "base_uri": "https://localhost:8080/",
     "height": 226
    },
    "id": "personalized-kernel",
    "outputId": "84155412-0033-416d-c990-5b048dc8c549"
   },
   "outputs": [
    {
     "data": {
      "text/html": [
       "<div>\n",
       "<style scoped>\n",
       "    .dataframe tbody tr th:only-of-type {\n",
       "        vertical-align: middle;\n",
       "    }\n",
       "\n",
       "    .dataframe tbody tr th {\n",
       "        vertical-align: top;\n",
       "    }\n",
       "\n",
       "    .dataframe thead th {\n",
       "        text-align: right;\n",
       "    }\n",
       "</style>\n",
       "<table border=\"1\" class=\"dataframe\">\n",
       "  <thead>\n",
       "    <tr style=\"text-align: right;\">\n",
       "      <th></th>\n",
       "      <th>id</th>\n",
       "      <th>Jenis_Kelamin</th>\n",
       "      <th>Umur</th>\n",
       "      <th>SIM</th>\n",
       "      <th>Kode_Daerah</th>\n",
       "      <th>Sudah_Asuransi</th>\n",
       "      <th>Umur_Kendaraan</th>\n",
       "      <th>Kendaraan_Rusak</th>\n",
       "      <th>Premi</th>\n",
       "      <th>Kanal_Penjualan</th>\n",
       "      <th>Lama_Berlangganan</th>\n",
       "    </tr>\n",
       "  </thead>\n",
       "  <tbody>\n",
       "    <tr>\n",
       "      <th>0</th>\n",
       "      <td>1</td>\n",
       "      <td>Wanita</td>\n",
       "      <td>30.0</td>\n",
       "      <td>1.0</td>\n",
       "      <td>33.0</td>\n",
       "      <td>1.0</td>\n",
       "      <td>&lt; 1 Tahun</td>\n",
       "      <td>Tidak</td>\n",
       "      <td>28029.0</td>\n",
       "      <td>152.0</td>\n",
       "      <td>97.0</td>\n",
       "    </tr>\n",
       "    <tr>\n",
       "      <th>1</th>\n",
       "      <td>2</td>\n",
       "      <td>Pria</td>\n",
       "      <td>48.0</td>\n",
       "      <td>1.0</td>\n",
       "      <td>39.0</td>\n",
       "      <td>0.0</td>\n",
       "      <td>&gt; 2 Tahun</td>\n",
       "      <td>Pernah</td>\n",
       "      <td>25800.0</td>\n",
       "      <td>29.0</td>\n",
       "      <td>158.0</td>\n",
       "    </tr>\n",
       "    <tr>\n",
       "      <th>3</th>\n",
       "      <td>4</td>\n",
       "      <td>Wanita</td>\n",
       "      <td>58.0</td>\n",
       "      <td>1.0</td>\n",
       "      <td>48.0</td>\n",
       "      <td>0.0</td>\n",
       "      <td>1-2 Tahun</td>\n",
       "      <td>Tidak</td>\n",
       "      <td>2630.0</td>\n",
       "      <td>124.0</td>\n",
       "      <td>63.0</td>\n",
       "    </tr>\n",
       "    <tr>\n",
       "      <th>5</th>\n",
       "      <td>6</td>\n",
       "      <td>Pria</td>\n",
       "      <td>21.0</td>\n",
       "      <td>1.0</td>\n",
       "      <td>35.0</td>\n",
       "      <td>1.0</td>\n",
       "      <td>&lt; 1 Tahun</td>\n",
       "      <td>Tidak</td>\n",
       "      <td>22735.0</td>\n",
       "      <td>152.0</td>\n",
       "      <td>171.0</td>\n",
       "    </tr>\n",
       "    <tr>\n",
       "      <th>8</th>\n",
       "      <td>9</td>\n",
       "      <td>Wanita</td>\n",
       "      <td>20.0</td>\n",
       "      <td>1.0</td>\n",
       "      <td>8.0</td>\n",
       "      <td>1.0</td>\n",
       "      <td>&lt; 1 Tahun</td>\n",
       "      <td>Tidak</td>\n",
       "      <td>30786.0</td>\n",
       "      <td>160.0</td>\n",
       "      <td>31.0</td>\n",
       "    </tr>\n",
       "  </tbody>\n",
       "</table>\n",
       "</div>"
      ],
      "text/plain": [
       "   id Jenis_Kelamin  Umur  ...    Premi  Kanal_Penjualan  Lama_Berlangganan\n",
       "0   1        Wanita  30.0  ...  28029.0            152.0               97.0\n",
       "1   2          Pria  48.0  ...  25800.0             29.0              158.0\n",
       "3   4        Wanita  58.0  ...   2630.0            124.0               63.0\n",
       "5   6          Pria  21.0  ...  22735.0            152.0              171.0\n",
       "8   9        Wanita  20.0  ...  30786.0            160.0               31.0\n",
       "\n",
       "[5 rows x 11 columns]"
      ]
     },
     "execution_count": 5,
     "metadata": {
      "tags": []
     },
     "output_type": "execute_result"
    }
   ],
   "source": [
    "df2 = copy.deepcopy(df)\n",
    "#kita akan melakukan drop label \"Tertarik\" pada df2\n",
    "df2.drop(columns=\"Tertarik\", axis=1, inplace=True)\n",
    "df2.set_index(\"id\")\n",
    "df2.head()"
   ]
  },
  {
   "cell_type": "markdown",
   "id": "industrial-grounds",
   "metadata": {
    "id": "industrial-grounds"
   },
   "source": [
    "DIsini kita akan melakukan hot encoding untuk mengubah nilai-nilai kategorikal menjadi numerik. Karena, K-means hanya bisa mengolah data numerik. Algoritma yang saya pakai adalah <b>OrdinalEncoder</b> pada library sklearn. Namun, untuk kategori \"Umur_Kendaraan\" & \"Kendaraan Rusak\" saya menggunakan konsep yang sama tapi menggunakan fitur replace() dari library panda, agar saya dapat menentukan nilai ordinalnya sendiri."
   ]
  },
  {
   "cell_type": "code",
   "execution_count": 6,
   "id": "opening-evolution",
   "metadata": {
    "colab": {
     "base_uri": "https://localhost:8080/",
     "height": 226
    },
    "id": "opening-evolution",
    "outputId": "123d4a2b-206f-450b-ff15-ef962d0d4088"
   },
   "outputs": [
    {
     "data": {
      "text/html": [
       "<div>\n",
       "<style scoped>\n",
       "    .dataframe tbody tr th:only-of-type {\n",
       "        vertical-align: middle;\n",
       "    }\n",
       "\n",
       "    .dataframe tbody tr th {\n",
       "        vertical-align: top;\n",
       "    }\n",
       "\n",
       "    .dataframe thead th {\n",
       "        text-align: right;\n",
       "    }\n",
       "</style>\n",
       "<table border=\"1\" class=\"dataframe\">\n",
       "  <thead>\n",
       "    <tr style=\"text-align: right;\">\n",
       "      <th></th>\n",
       "      <th>id</th>\n",
       "      <th>Jenis_Kelamin</th>\n",
       "      <th>Umur</th>\n",
       "      <th>SIM</th>\n",
       "      <th>Kode_Daerah</th>\n",
       "      <th>Sudah_Asuransi</th>\n",
       "      <th>Umur_Kendaraan</th>\n",
       "      <th>Kendaraan_Rusak</th>\n",
       "      <th>Premi</th>\n",
       "      <th>Kanal_Penjualan</th>\n",
       "      <th>Lama_Berlangganan</th>\n",
       "    </tr>\n",
       "  </thead>\n",
       "  <tbody>\n",
       "    <tr>\n",
       "      <th>0</th>\n",
       "      <td>1</td>\n",
       "      <td>1.0</td>\n",
       "      <td>30.0</td>\n",
       "      <td>1.0</td>\n",
       "      <td>33.0</td>\n",
       "      <td>1.0</td>\n",
       "      <td>0</td>\n",
       "      <td>0</td>\n",
       "      <td>28029.0</td>\n",
       "      <td>152.0</td>\n",
       "      <td>97.0</td>\n",
       "    </tr>\n",
       "    <tr>\n",
       "      <th>1</th>\n",
       "      <td>2</td>\n",
       "      <td>0.0</td>\n",
       "      <td>48.0</td>\n",
       "      <td>1.0</td>\n",
       "      <td>39.0</td>\n",
       "      <td>0.0</td>\n",
       "      <td>2</td>\n",
       "      <td>1</td>\n",
       "      <td>25800.0</td>\n",
       "      <td>29.0</td>\n",
       "      <td>158.0</td>\n",
       "    </tr>\n",
       "    <tr>\n",
       "      <th>3</th>\n",
       "      <td>4</td>\n",
       "      <td>1.0</td>\n",
       "      <td>58.0</td>\n",
       "      <td>1.0</td>\n",
       "      <td>48.0</td>\n",
       "      <td>0.0</td>\n",
       "      <td>1</td>\n",
       "      <td>0</td>\n",
       "      <td>2630.0</td>\n",
       "      <td>124.0</td>\n",
       "      <td>63.0</td>\n",
       "    </tr>\n",
       "    <tr>\n",
       "      <th>5</th>\n",
       "      <td>6</td>\n",
       "      <td>0.0</td>\n",
       "      <td>21.0</td>\n",
       "      <td>1.0</td>\n",
       "      <td>35.0</td>\n",
       "      <td>1.0</td>\n",
       "      <td>0</td>\n",
       "      <td>0</td>\n",
       "      <td>22735.0</td>\n",
       "      <td>152.0</td>\n",
       "      <td>171.0</td>\n",
       "    </tr>\n",
       "    <tr>\n",
       "      <th>8</th>\n",
       "      <td>9</td>\n",
       "      <td>1.0</td>\n",
       "      <td>20.0</td>\n",
       "      <td>1.0</td>\n",
       "      <td>8.0</td>\n",
       "      <td>1.0</td>\n",
       "      <td>0</td>\n",
       "      <td>0</td>\n",
       "      <td>30786.0</td>\n",
       "      <td>160.0</td>\n",
       "      <td>31.0</td>\n",
       "    </tr>\n",
       "  </tbody>\n",
       "</table>\n",
       "</div>"
      ],
      "text/plain": [
       "   id  Jenis_Kelamin  Umur  ...    Premi  Kanal_Penjualan  Lama_Berlangganan\n",
       "0   1            1.0  30.0  ...  28029.0            152.0               97.0\n",
       "1   2            0.0  48.0  ...  25800.0             29.0              158.0\n",
       "3   4            1.0  58.0  ...   2630.0            124.0               63.0\n",
       "5   6            0.0  21.0  ...  22735.0            152.0              171.0\n",
       "8   9            1.0  20.0  ...  30786.0            160.0               31.0\n",
       "\n",
       "[5 rows x 11 columns]"
      ]
     },
     "execution_count": 6,
     "metadata": {
      "tags": []
     },
     "output_type": "execute_result"
    }
   ],
   "source": [
    "#Definsikan variabel encoder\n",
    "encoder = OrdinalEncoder()\n",
    "\n",
    "#Ubah Kendaraan Rusak\n",
    "replaces_data = {\"Kendaraan_Rusak\": {\"Pernah\": 1, \"Tidak\": 0}}\n",
    "df2.replace(replaces_data, inplace=True)\n",
    "\n",
    "#Ubah Jenis Kelamin\n",
    "df2[\"Gender\"] = encoder.fit_transform(df2[[\"Jenis_Kelamin\"]]) #Library ini auto encode untuk perempuan bernilai 1 dan laki laki 0\n",
    "df2[\"Jenis_Kelamin\"] = df2[\"Gender\"]\n",
    "df2.drop(columns=\"Gender\", axis=1, inplace=True)\n",
    "\n",
    "#Ubah Umur Kendaraan\n",
    "replaces_data = {\"Umur_Kendaraan\": {\"1-2 Tahun\": 1, \"< 1 Tahun\": 0, \"> 2 Tahun\": 2}}\n",
    "df2.replace(replaces_data, inplace=True)\n",
    "df2.head()"
   ]
  },
  {
   "cell_type": "markdown",
   "id": "broadband-tours",
   "metadata": {
    "id": "broadband-tours"
   },
   "source": [
    "Pada Tahap ini, saya akan melakukan normalisasi data menggunakan <b>MinMaxScaler</b> dari library sklearn. Lalu, saya akan mengubah dataframe ke bentuk PCA selain untuk mempermudah penghitungan dengan mengurangi kompleksitas dimensi, juga untuk mempermudah visualisasi nantinya."
   ]
  },
  {
   "cell_type": "code",
   "execution_count": 7,
   "id": "occupied-advocate",
   "metadata": {
    "colab": {
     "base_uri": "https://localhost:8080/",
     "height": 226
    },
    "id": "occupied-advocate",
    "outputId": "8b6eebe4-1b2b-4df3-a128-2da4ea6c765d"
   },
   "outputs": [
    {
     "data": {
      "text/html": [
       "<div>\n",
       "<style scoped>\n",
       "    .dataframe tbody tr th:only-of-type {\n",
       "        vertical-align: middle;\n",
       "    }\n",
       "\n",
       "    .dataframe tbody tr th {\n",
       "        vertical-align: top;\n",
       "    }\n",
       "\n",
       "    .dataframe thead th {\n",
       "        text-align: right;\n",
       "    }\n",
       "</style>\n",
       "<table border=\"1\" class=\"dataframe\">\n",
       "  <thead>\n",
       "    <tr style=\"text-align: right;\">\n",
       "      <th></th>\n",
       "      <th>id</th>\n",
       "      <th>Jenis_Kelamin</th>\n",
       "      <th>Umur</th>\n",
       "      <th>SIM</th>\n",
       "      <th>Kode_Daerah</th>\n",
       "      <th>Sudah_Asuransi</th>\n",
       "      <th>Umur_Kendaraan</th>\n",
       "      <th>Kendaraan_Rusak</th>\n",
       "      <th>Premi</th>\n",
       "      <th>Kanal_Penjualan</th>\n",
       "      <th>Lama_Berlangganan</th>\n",
       "    </tr>\n",
       "  </thead>\n",
       "  <tbody>\n",
       "    <tr>\n",
       "      <th>0</th>\n",
       "      <td>0.000000</td>\n",
       "      <td>1.0</td>\n",
       "      <td>0.153846</td>\n",
       "      <td>1.0</td>\n",
       "      <td>0.634615</td>\n",
       "      <td>1.0</td>\n",
       "      <td>0.0</td>\n",
       "      <td>0.0</td>\n",
       "      <td>0.047251</td>\n",
       "      <td>0.932099</td>\n",
       "      <td>0.301038</td>\n",
       "    </tr>\n",
       "    <tr>\n",
       "      <th>1</th>\n",
       "      <td>0.000003</td>\n",
       "      <td>0.0</td>\n",
       "      <td>0.430769</td>\n",
       "      <td>1.0</td>\n",
       "      <td>0.750000</td>\n",
       "      <td>0.0</td>\n",
       "      <td>1.0</td>\n",
       "      <td>1.0</td>\n",
       "      <td>0.043104</td>\n",
       "      <td>0.172840</td>\n",
       "      <td>0.512111</td>\n",
       "    </tr>\n",
       "    <tr>\n",
       "      <th>3</th>\n",
       "      <td>0.000010</td>\n",
       "      <td>1.0</td>\n",
       "      <td>0.584615</td>\n",
       "      <td>1.0</td>\n",
       "      <td>0.923077</td>\n",
       "      <td>0.0</td>\n",
       "      <td>0.5</td>\n",
       "      <td>0.0</td>\n",
       "      <td>0.000000</td>\n",
       "      <td>0.759259</td>\n",
       "      <td>0.183391</td>\n",
       "    </tr>\n",
       "    <tr>\n",
       "      <th>5</th>\n",
       "      <td>0.000017</td>\n",
       "      <td>0.0</td>\n",
       "      <td>0.015385</td>\n",
       "      <td>1.0</td>\n",
       "      <td>0.673077</td>\n",
       "      <td>1.0</td>\n",
       "      <td>0.0</td>\n",
       "      <td>0.0</td>\n",
       "      <td>0.037402</td>\n",
       "      <td>0.932099</td>\n",
       "      <td>0.557093</td>\n",
       "    </tr>\n",
       "    <tr>\n",
       "      <th>8</th>\n",
       "      <td>0.000028</td>\n",
       "      <td>1.0</td>\n",
       "      <td>0.000000</td>\n",
       "      <td>1.0</td>\n",
       "      <td>0.153846</td>\n",
       "      <td>1.0</td>\n",
       "      <td>0.0</td>\n",
       "      <td>0.0</td>\n",
       "      <td>0.052380</td>\n",
       "      <td>0.981481</td>\n",
       "      <td>0.072664</td>\n",
       "    </tr>\n",
       "  </tbody>\n",
       "</table>\n",
       "</div>"
      ],
      "text/plain": [
       "         id  Jenis_Kelamin  ...  Kanal_Penjualan  Lama_Berlangganan\n",
       "0  0.000000            1.0  ...         0.932099           0.301038\n",
       "1  0.000003            0.0  ...         0.172840           0.512111\n",
       "3  0.000010            1.0  ...         0.759259           0.183391\n",
       "5  0.000017            0.0  ...         0.932099           0.557093\n",
       "8  0.000028            1.0  ...         0.981481           0.072664\n",
       "\n",
       "[5 rows x 11 columns]"
      ]
     },
     "execution_count": 7,
     "metadata": {
      "tags": []
     },
     "output_type": "execute_result"
    }
   ],
   "source": [
    "scaler = MinMaxScaler()\n",
    "scaled_values = scaler.fit_transform(df2)\n",
    "df2.loc[:,:] = scaled_values\n",
    "df2.head()"
   ]
  },
  {
   "cell_type": "code",
   "execution_count": 8,
   "id": "freelance-tower",
   "metadata": {
    "colab": {
     "base_uri": "https://localhost:8080/"
    },
    "id": "freelance-tower",
    "outputId": "b772226c-debe-4aa3-c41b-ea930fad44d7"
   },
   "outputs": [
    {
     "data": {
      "text/plain": [
       "array([[-0.90701509,  0.41921736],\n",
       "       [ 0.97762619, -0.42389021],\n",
       "       [-0.03915604,  0.48121372],\n",
       "       ...,\n",
       "       [-0.91701655,  0.43128871],\n",
       "       [-0.52300295, -0.65153879],\n",
       "       [ 0.86092085, -0.37547447]])"
      ]
     },
     "execution_count": 8,
     "metadata": {
      "tags": []
     },
     "output_type": "execute_result"
    }
   ],
   "source": [
    "pca = PCA(2) #membuat PCA 2 fitur\n",
    "df2 = pca.fit_transform(df2)\n",
    "df2"
   ]
  },
  {
   "cell_type": "markdown",
   "id": "norman-annex",
   "metadata": {
    "id": "norman-annex"
   },
   "source": [
    "## 3. Pemodelan\n",
    "Saya menggunakan algoritma K-means untuk task clustering ini. Alasannya karena lebih mudah untuk diimplementasikan dibanding algoritma clustering lainnya."
   ]
  },
  {
   "cell_type": "code",
   "execution_count": 9,
   "id": "amended-laugh",
   "metadata": {
    "id": "amended-laugh"
   },
   "outputs": [],
   "source": [
    "#Definisikan Fungsi\n",
    "\"\"\"\n",
    "x : data yang akan di cluster\n",
    "k : nilai K (banyak cluster)\n",
    "iterasi : iterasi perulangan untuk centroids\n",
    "\"\"\"\n",
    "def func_KMeans(x, k, iterasi):\n",
    "    idx = np.random.choice(len(x), k, replace=False)\n",
    "    #Pilih acak index untuk centroids\n",
    "    centroids = x[idx, :]\n",
    "     \n",
    "    #Mencari jarak antara centroids dengan data point\n",
    "    jarak = cdist(x, centroids ,'euclidean')\n",
    "     \n",
    "    #Centroids dengan jarak terdekat\n",
    "    points = np.array([np.argmin(i) for i in jarak])\n",
    "     \n",
    "    #Proses diatas diulang sebanyak parameter iterasi\n",
    "    for i in range(iterasi): \n",
    "        centroids = []\n",
    "        for idx in range(k):\n",
    "            #update lokasi centroids berdasarkan nilai rata-rata jarak cluster\n",
    "            temp_cent = x[points==idx].mean(axis=0) \n",
    "            centroids.append(temp_cent)\n",
    " \n",
    "        centroids = np.vstack(centroids) #Centroids yang sudah diperbarui \n",
    "         \n",
    "        jarak = cdist(x, centroids ,'euclidean')\n",
    "        points = np.array([np.argmin(i) for i in jarak])\n",
    "         \n",
    "    return points "
   ]
  },
  {
   "cell_type": "code",
   "execution_count": 10,
   "id": "functioning-variable",
   "metadata": {
    "id": "functioning-variable"
   },
   "outputs": [],
   "source": [
    "#Jalankan Fungsi\n",
    "label = func_KMeans(df2,2,300)"
   ]
  },
  {
   "cell_type": "markdown",
   "id": "WxGiF4Pz_zIS",
   "metadata": {
    "id": "WxGiF4Pz_zIS"
   },
   "source": [
    "Visualisasikan Datanya"
   ]
  },
  {
   "cell_type": "code",
   "execution_count": 11,
   "id": "level-machinery",
   "metadata": {
    "colab": {
     "base_uri": "https://localhost:8080/",
     "height": 265
    },
    "id": "level-machinery",
    "outputId": "cdf88da1-6e27-4e93-c182-70c9de7e40d3"
   },
   "outputs": [
    {
     "data": {
      "image/png": "[encoded data removed]",
      "text/plain": [
       "<Figure size 432x288 with 1 Axes>"
      ]
     },
     "metadata": {
      "needs_background": "light",
      "tags": []
     },
     "output_type": "display_data"
    }
   ],
   "source": [
    "label_cluster = np.unique(label)\n",
    "for i in label_cluster:\n",
    "    plt.scatter(df2[label == i , 0] , df2[label == i , 1] , label = i)\n",
    "plt.legend()\n",
    "plt.show()"
   ]
  },
  {
   "cell_type": "markdown",
   "id": "-M_9AUeiBQUd",
   "metadata": {
    "id": "-M_9AUeiBQUd"
   },
   "source": [
    "## 4. Evaluasi\n",
    "Sebenarnya, kalau menggunakan dataset real (tanpa label), tidak ada evaluasi yang digunakan. Cukup selesai sama hasil cluster data. Namun karena disini kita memiliki label perbandingan yaitu \"Tertarik\", maka kita bisa membandingkan nilai hasil cluster dengan nilai original (bukan prediksi)"
   ]
  },
  {
   "cell_type": "code",
   "execution_count": 12,
   "id": "4QBZwe9FBOEV",
   "metadata": {
    "colab": {
     "base_uri": "https://localhost:8080/",
     "height": 226
    },
    "id": "4QBZwe9FBOEV",
    "outputId": "46e16a8f-aa8d-4636-8b3e-53cad0a4d8da"
   },
   "outputs": [
    {
     "data": {
      "text/html": [
       "<div>\n",
       "<style scoped>\n",
       "    .dataframe tbody tr th:only-of-type {\n",
       "        vertical-align: middle;\n",
       "    }\n",
       "\n",
       "    .dataframe tbody tr th {\n",
       "        vertical-align: top;\n",
       "    }\n",
       "\n",
       "    .dataframe thead th {\n",
       "        text-align: right;\n",
       "    }\n",
       "</style>\n",
       "<table border=\"1\" class=\"dataframe\">\n",
       "  <thead>\n",
       "    <tr style=\"text-align: right;\">\n",
       "      <th></th>\n",
       "      <th>id</th>\n",
       "      <th>Jenis_Kelamin</th>\n",
       "      <th>Umur</th>\n",
       "      <th>SIM</th>\n",
       "      <th>Kode_Daerah</th>\n",
       "      <th>Sudah_Asuransi</th>\n",
       "      <th>Umur_Kendaraan</th>\n",
       "      <th>Kendaraan_Rusak</th>\n",
       "      <th>Premi</th>\n",
       "      <th>Kanal_Penjualan</th>\n",
       "      <th>Lama_Berlangganan</th>\n",
       "    </tr>\n",
       "  </thead>\n",
       "  <tbody>\n",
       "    <tr>\n",
       "      <th>0</th>\n",
       "      <td>0.000000</td>\n",
       "      <td>1.0</td>\n",
       "      <td>0.153846</td>\n",
       "      <td>1.0</td>\n",
       "      <td>0.634615</td>\n",
       "      <td>1.0</td>\n",
       "      <td>0.0</td>\n",
       "      <td>0.0</td>\n",
       "      <td>0.047251</td>\n",
       "      <td>0.932099</td>\n",
       "      <td>0.301038</td>\n",
       "    </tr>\n",
       "    <tr>\n",
       "      <th>1</th>\n",
       "      <td>0.000003</td>\n",
       "      <td>0.0</td>\n",
       "      <td>0.430769</td>\n",
       "      <td>1.0</td>\n",
       "      <td>0.750000</td>\n",
       "      <td>0.0</td>\n",
       "      <td>1.0</td>\n",
       "      <td>1.0</td>\n",
       "      <td>0.043104</td>\n",
       "      <td>0.172840</td>\n",
       "      <td>0.512111</td>\n",
       "    </tr>\n",
       "    <tr>\n",
       "      <th>3</th>\n",
       "      <td>0.000010</td>\n",
       "      <td>1.0</td>\n",
       "      <td>0.584615</td>\n",
       "      <td>1.0</td>\n",
       "      <td>0.923077</td>\n",
       "      <td>0.0</td>\n",
       "      <td>0.5</td>\n",
       "      <td>0.0</td>\n",
       "      <td>0.000000</td>\n",
       "      <td>0.759259</td>\n",
       "      <td>0.183391</td>\n",
       "    </tr>\n",
       "    <tr>\n",
       "      <th>5</th>\n",
       "      <td>0.000017</td>\n",
       "      <td>0.0</td>\n",
       "      <td>0.015385</td>\n",
       "      <td>1.0</td>\n",
       "      <td>0.673077</td>\n",
       "      <td>1.0</td>\n",
       "      <td>0.0</td>\n",
       "      <td>0.0</td>\n",
       "      <td>0.037402</td>\n",
       "      <td>0.932099</td>\n",
       "      <td>0.557093</td>\n",
       "    </tr>\n",
       "    <tr>\n",
       "      <th>8</th>\n",
       "      <td>0.000028</td>\n",
       "      <td>1.0</td>\n",
       "      <td>0.000000</td>\n",
       "      <td>1.0</td>\n",
       "      <td>0.153846</td>\n",
       "      <td>1.0</td>\n",
       "      <td>0.0</td>\n",
       "      <td>0.0</td>\n",
       "      <td>0.052380</td>\n",
       "      <td>0.981481</td>\n",
       "      <td>0.072664</td>\n",
       "    </tr>\n",
       "  </tbody>\n",
       "</table>\n",
       "</div>"
      ],
      "text/plain": [
       "         id  Jenis_Kelamin  ...  Kanal_Penjualan  Lama_Berlangganan\n",
       "0  0.000000            1.0  ...         0.932099           0.301038\n",
       "1  0.000003            0.0  ...         0.172840           0.512111\n",
       "3  0.000010            1.0  ...         0.759259           0.183391\n",
       "5  0.000017            0.0  ...         0.932099           0.557093\n",
       "8  0.000028            1.0  ...         0.981481           0.072664\n",
       "\n",
       "[5 rows x 11 columns]"
      ]
     },
     "execution_count": 12,
     "metadata": {
      "tags": []
     },
     "output_type": "execute_result"
    }
   ],
   "source": [
    "#Pertama dengan mengubah dataframe original ke 2 dimension PCA agar lebih mudah di visualisasi\n",
    "df3 = copy.deepcopy(df)\n",
    "#kita akan melakukan drop label \"Tertarik\" pada df2\n",
    "df3.drop(columns=\"Tertarik\", axis=1, inplace=True)\n",
    "df3.set_index(\"id\")\n",
    "\n",
    "#Disini saya menggunakan metode preprocessing yang sama sampai ke PCA\n",
    "replaces_data = {\"Kendaraan_Rusak\": {\"Pernah\": 1, \"Tidak\": 0}}\n",
    "df3.replace(replaces_data, inplace=True)\n",
    "df3[\"Gender\"] = encoder.fit_transform(df3[[\"Jenis_Kelamin\"]])\n",
    "df3[\"Jenis_Kelamin\"] = df3[\"Gender\"]\n",
    "df3.drop(columns=\"Gender\", axis=1, inplace=True)\n",
    "replaces_data = {\"Umur_Kendaraan\": {\"1-2 Tahun\": 1, \"< 1 Tahun\": 0, \"> 2 Tahun\": 2}}\n",
    "df3.replace(replaces_data, inplace=True)\n",
    "scaled_values = scaler.fit_transform(df3)\n",
    "df3.loc[:,:] = scaled_values\n",
    "df3.head()"
   ]
  },
  {
   "cell_type": "code",
   "execution_count": 13,
   "id": "jKr313n6rl3Y",
   "metadata": {
    "colab": {
     "base_uri": "https://localhost:8080/"
    },
    "id": "jKr313n6rl3Y",
    "outputId": "0114410a-a9de-47f0-ac56-c26af94f2160"
   },
   "outputs": [
    {
     "data": {
      "text/plain": [
       "array([[-0.90701509,  0.41921736],\n",
       "       [ 0.97762619, -0.42389021],\n",
       "       [-0.03915604,  0.48121372],\n",
       "       ...,\n",
       "       [-0.91701655,  0.43128871],\n",
       "       [-0.52300295, -0.65153879],\n",
       "       [ 0.86092085, -0.37547447]])"
      ]
     },
     "execution_count": 13,
     "metadata": {
      "tags": []
     },
     "output_type": "execute_result"
    }
   ],
   "source": [
    "pca = PCA(2) #membuat PCA 2 fitur\n",
    "df3 = pca.fit_transform(df3)\n",
    "df3"
   ]
  },
  {
   "cell_type": "code",
   "execution_count": 14,
   "id": "8c7W6OQBe41v",
   "metadata": {
    "colab": {
     "base_uri": "https://localhost:8080/",
     "height": 408
    },
    "id": "8c7W6OQBe41v",
    "outputId": "bf7f8129-196c-4716-c31d-93911ebd4d08"
   },
   "outputs": [
    {
     "data": {
      "text/plain": [
       "<matplotlib.collections.PathCollection at 0x7fe9e7d448d0>"
      ]
     },
     "execution_count": 14,
     "metadata": {
      "tags": []
     },
     "output_type": "execute_result"
    },
    {
     "data": {
      "image/png": "[encoded data removed]",
      "text/plain": [
       "<Figure size 720x432 with 2 Axes>"
      ]
     },
     "metadata": {
      "needs_background": "light",
      "tags": []
     },
     "output_type": "display_data"
    }
   ],
   "source": [
    "f, (ax1, ax2) = plt.subplots(1, 2, sharey=True,figsize=(10,6))\n",
    "ax1.set_title('K Means')\n",
    "ax1.scatter(df2[:,0],df2[:,1],c=label,cmap='brg')\n",
    "ax2.set_title(\"Original\")\n",
    "ax2.scatter(df3[:,0],df3[:,1],c=df[\"Tertarik\"],cmap='brg')"
   ]
  },
  {
   "cell_type": "markdown",
   "id": "hlZjkH6vtWC1",
   "metadata": {
    "id": "hlZjkH6vtWC1"
   },
   "source": [
    "Bisa dilihat bahwa terdapat perbedaan yang sangat signifikan antara cluster dengan label \"Tertarik\". Hal ini disebabkan K-means bukanlah algoritma prediksi dan seharusnya tidak dipergunakan seperti ini."
   ]
  },
  {
   "cell_type": "markdown",
   "id": "cAuoEu86tuQ9",
   "metadata": {
    "id": "cAuoEu86tuQ9"
   },
   "source": [
    "## 5. Eksperimen"
   ]
  },
  {
   "cell_type": "code",
   "execution_count": 15,
   "id": "MDNJXdzUCekb",
   "metadata": {
    "colab": {
     "base_uri": "https://localhost:8080/",
     "height": 265
    },
    "id": "MDNJXdzUCekb",
    "outputId": "ed67f672-d9fc-4f0a-b397-b539d27dfd18"
   },
   "outputs": [
    {
     "data": {
      "image/png": "[encoded data removed]",
      "text/plain": [
       "<Figure size 432x288 with 1 Axes>"
      ]
     },
     "metadata": {
      "needs_background": "light",
      "tags": []
     },
     "output_type": "display_data"
    }
   ],
   "source": [
    "#k = 4, iterasi = 225\n",
    "label = func_KMeans(df2,2,225)\n",
    "label_cluster = np.unique(label)\n",
    "for i in label_cluster:\n",
    "    plt.scatter(df2[label == i , 0] , df2[label == i , 1] , label = i)\n",
    "plt.legend()\n",
    "plt.show()"
   ]
  },
  {
   "cell_type": "code",
   "execution_count": 16,
   "id": "g2SnvAp9tpjq",
   "metadata": {
    "colab": {
     "base_uri": "https://localhost:8080/",
     "height": 265
    },
    "id": "g2SnvAp9tpjq",
    "outputId": "756eda46-1af5-488f-95d9-fd16e9c8f7b2"
   },
   "outputs": [
    {
     "data": {
      "image/png": "[encoded data removed]",
      "text/plain": [
       "<Figure size 432x288 with 1 Axes>"
      ]
     },
     "metadata": {
      "needs_background": "light",
      "tags": []
     },
     "output_type": "display_data"
    }
   ],
   "source": [
    "#k = 6, iterasi = 300\n",
    "label = func_KMeans(df2,6,300)\n",
    "label_cluster = np.unique(label)\n",
    "for i in label_cluster:\n",
    "    plt.scatter(df2[label == i , 0] , df2[label == i , 1] , label = i)\n",
    "plt.legend()\n",
    "plt.show()"
   ]
  },
  {
   "cell_type": "code",
   "execution_count": 17,
   "id": "_YCKZ9cbyzNT",
   "metadata": {
    "colab": {
     "base_uri": "https://localhost:8080/",
     "height": 265
    },
    "id": "_YCKZ9cbyzNT",
    "outputId": "e59e29e1-06b7-4424-9b0b-0bd25a4ea1d5"
   },
   "outputs": [
    {
     "data": {
      "image/png": "[encoded data removed]",
      "text/plain": [
       "<Figure size 432x288 with 1 Axes>"
      ]
     },
     "metadata": {
      "needs_background": "light",
      "tags": []
     },
     "output_type": "display_data"
    }
   ],
   "source": [
    "#k = 9, iterasi = 369\n",
    "label = func_KMeans(df2,9,369)\n",
    "label_cluster = np.unique(label)\n",
    "for i in label_cluster:\n",
    "    plt.scatter(df2[label == i , 0] , df2[label == i , 1] , label = i)\n",
    "plt.legend()\n",
    "plt.show()"
   ]
  },
  {
   "cell_type": "code",
   "execution_count": 18,
   "id": "dex31zBTELR5",
   "metadata": {
    "colab": {
     "base_uri": "https://localhost:8080/",
     "height": 265
    },
    "id": "dex31zBTELR5",
    "outputId": "c37baaf4-6e99-4103-ea52-3b91439683a8"
   },
   "outputs": [
    {
     "data": {
      "image/png": "[encoded data removed]",
      "text/plain": [
       "<Figure size 432x288 with 1 Axes>"
      ]
     },
     "metadata": {
      "needs_background": "light",
      "tags": []
     },
     "output_type": "display_data"
    }
   ],
   "source": [
    "#k = 5, iterasi = 125\n",
    "label = func_KMeans(df2,5,125)\n",
    "label_cluster = np.unique(label)\n",
    "for i in label_cluster:\n",
    "    plt.scatter(df2[label == i , 0] , df2[label == i , 1] , label = i)\n",
    "plt.legend()\n",
    "plt.show()"
   ]
  },
  {
   "cell_type": "markdown",
   "id": "7qfefOjnD6ZY",
   "metadata": {
    "id": "7qfefOjnD6ZY"
   },
   "source": [
    "## 6. Kesimpulan\n",
    "Jadi Kita sudah melihat berbagai jenis hal yang dapat dilakukan. Karena tujuan sebenarnya dari k-means adalah pengelompokkan data, kita bisa melihat hasil clustering ke data. dan tentu saja kita bisa melakukan analisa lebih dalam terhadap data-data yang sudah dipisahkan sesuai clusternya masing-masing."
   ]
  },
  {
   "cell_type": "code",
   "execution_count": 19,
   "id": "-IVNmHe0D9dL",
   "metadata": {
    "id": "-IVNmHe0D9dL"
   },
   "outputs": [],
   "source": [
    "arr = pd.DataFrame(label)\n",
    "df[\"Cluster\"] = arr[0] #k = 5"
   ]
  },
  {
   "cell_type": "code",
   "execution_count": 20,
   "id": "_ES1omkwJOFh",
   "metadata": {
    "colab": {
     "base_uri": "https://localhost:8080/",
     "height": 444
    },
    "id": "_ES1omkwJOFh",
    "outputId": "c249d731-b6cd-4742-b2f3-6ade8f7c91c5"
   },
   "outputs": [
    {
     "data": {
      "text/html": [
       "<div>\n",
       "<style scoped>\n",
       "    .dataframe tbody tr th:only-of-type {\n",
       "        vertical-align: middle;\n",
       "    }\n",
       "\n",
       "    .dataframe tbody tr th {\n",
       "        vertical-align: top;\n",
       "    }\n",
       "\n",
       "    .dataframe thead th {\n",
       "        text-align: right;\n",
       "    }\n",
       "</style>\n",
       "<table border=\"1\" class=\"dataframe\">\n",
       "  <thead>\n",
       "    <tr style=\"text-align: right;\">\n",
       "      <th></th>\n",
       "      <th>id</th>\n",
       "      <th>Jenis_Kelamin</th>\n",
       "      <th>Umur</th>\n",
       "      <th>SIM</th>\n",
       "      <th>Kode_Daerah</th>\n",
       "      <th>Sudah_Asuransi</th>\n",
       "      <th>Umur_Kendaraan</th>\n",
       "      <th>Kendaraan_Rusak</th>\n",
       "      <th>Premi</th>\n",
       "      <th>Kanal_Penjualan</th>\n",
       "      <th>Lama_Berlangganan</th>\n",
       "      <th>Tertarik</th>\n",
       "      <th>Cluster</th>\n",
       "    </tr>\n",
       "  </thead>\n",
       "  <tbody>\n",
       "    <tr>\n",
       "      <th>47</th>\n",
       "      <td>48</td>\n",
       "      <td>Wanita</td>\n",
       "      <td>44.0</td>\n",
       "      <td>1.0</td>\n",
       "      <td>28.0</td>\n",
       "      <td>0.0</td>\n",
       "      <td>1-2 Tahun</td>\n",
       "      <td>Pernah</td>\n",
       "      <td>24256.0</td>\n",
       "      <td>26.0</td>\n",
       "      <td>113.0</td>\n",
       "      <td>0</td>\n",
       "      <td>3.0</td>\n",
       "    </tr>\n",
       "    <tr>\n",
       "      <th>152</th>\n",
       "      <td>153</td>\n",
       "      <td>Wanita</td>\n",
       "      <td>25.0</td>\n",
       "      <td>1.0</td>\n",
       "      <td>15.0</td>\n",
       "      <td>1.0</td>\n",
       "      <td>&lt; 1 Tahun</td>\n",
       "      <td>Tidak</td>\n",
       "      <td>32608.0</td>\n",
       "      <td>152.0</td>\n",
       "      <td>205.0</td>\n",
       "      <td>0</td>\n",
       "      <td>3.0</td>\n",
       "    </tr>\n",
       "    <tr>\n",
       "      <th>173</th>\n",
       "      <td>174</td>\n",
       "      <td>Pria</td>\n",
       "      <td>24.0</td>\n",
       "      <td>1.0</td>\n",
       "      <td>28.0</td>\n",
       "      <td>1.0</td>\n",
       "      <td>&lt; 1 Tahun</td>\n",
       "      <td>Tidak</td>\n",
       "      <td>63672.0</td>\n",
       "      <td>152.0</td>\n",
       "      <td>98.0</td>\n",
       "      <td>0</td>\n",
       "      <td>3.0</td>\n",
       "    </tr>\n",
       "    <tr>\n",
       "      <th>271</th>\n",
       "      <td>272</td>\n",
       "      <td>Wanita</td>\n",
       "      <td>23.0</td>\n",
       "      <td>1.0</td>\n",
       "      <td>29.0</td>\n",
       "      <td>1.0</td>\n",
       "      <td>&lt; 1 Tahun</td>\n",
       "      <td>Tidak</td>\n",
       "      <td>35181.0</td>\n",
       "      <td>152.0</td>\n",
       "      <td>13.0</td>\n",
       "      <td>0</td>\n",
       "      <td>3.0</td>\n",
       "    </tr>\n",
       "    <tr>\n",
       "      <th>277</th>\n",
       "      <td>278</td>\n",
       "      <td>Pria</td>\n",
       "      <td>60.0</td>\n",
       "      <td>1.0</td>\n",
       "      <td>8.0</td>\n",
       "      <td>1.0</td>\n",
       "      <td>1-2 Tahun</td>\n",
       "      <td>Tidak</td>\n",
       "      <td>2630.0</td>\n",
       "      <td>124.0</td>\n",
       "      <td>13.0</td>\n",
       "      <td>0</td>\n",
       "      <td>3.0</td>\n",
       "    </tr>\n",
       "    <tr>\n",
       "      <th>...</th>\n",
       "      <td>...</td>\n",
       "      <td>...</td>\n",
       "      <td>...</td>\n",
       "      <td>...</td>\n",
       "      <td>...</td>\n",
       "      <td>...</td>\n",
       "      <td>...</td>\n",
       "      <td>...</td>\n",
       "      <td>...</td>\n",
       "      <td>...</td>\n",
       "      <td>...</td>\n",
       "      <td>...</td>\n",
       "      <td>...</td>\n",
       "    </tr>\n",
       "    <tr>\n",
       "      <th>170801</th>\n",
       "      <td>170802</td>\n",
       "      <td>Pria</td>\n",
       "      <td>58.0</td>\n",
       "      <td>1.0</td>\n",
       "      <td>17.0</td>\n",
       "      <td>0.0</td>\n",
       "      <td>1-2 Tahun</td>\n",
       "      <td>Pernah</td>\n",
       "      <td>36057.0</td>\n",
       "      <td>26.0</td>\n",
       "      <td>121.0</td>\n",
       "      <td>0</td>\n",
       "      <td>3.0</td>\n",
       "    </tr>\n",
       "    <tr>\n",
       "      <th>170830</th>\n",
       "      <td>170831</td>\n",
       "      <td>Pria</td>\n",
       "      <td>27.0</td>\n",
       "      <td>1.0</td>\n",
       "      <td>31.0</td>\n",
       "      <td>0.0</td>\n",
       "      <td>&lt; 1 Tahun</td>\n",
       "      <td>Tidak</td>\n",
       "      <td>2630.0</td>\n",
       "      <td>152.0</td>\n",
       "      <td>103.0</td>\n",
       "      <td>0</td>\n",
       "      <td>3.0</td>\n",
       "    </tr>\n",
       "    <tr>\n",
       "      <th>170934</th>\n",
       "      <td>170935</td>\n",
       "      <td>Wanita</td>\n",
       "      <td>22.0</td>\n",
       "      <td>1.0</td>\n",
       "      <td>8.0</td>\n",
       "      <td>1.0</td>\n",
       "      <td>&lt; 1 Tahun</td>\n",
       "      <td>Tidak</td>\n",
       "      <td>29459.0</td>\n",
       "      <td>160.0</td>\n",
       "      <td>271.0</td>\n",
       "      <td>0</td>\n",
       "      <td>3.0</td>\n",
       "    </tr>\n",
       "    <tr>\n",
       "      <th>171028</th>\n",
       "      <td>171029</td>\n",
       "      <td>Wanita</td>\n",
       "      <td>51.0</td>\n",
       "      <td>1.0</td>\n",
       "      <td>28.0</td>\n",
       "      <td>1.0</td>\n",
       "      <td>1-2 Tahun</td>\n",
       "      <td>Tidak</td>\n",
       "      <td>45249.0</td>\n",
       "      <td>26.0</td>\n",
       "      <td>18.0</td>\n",
       "      <td>0</td>\n",
       "      <td>3.0</td>\n",
       "    </tr>\n",
       "    <tr>\n",
       "      <th>171060</th>\n",
       "      <td>171061</td>\n",
       "      <td>Pria</td>\n",
       "      <td>43.0</td>\n",
       "      <td>1.0</td>\n",
       "      <td>21.0</td>\n",
       "      <td>0.0</td>\n",
       "      <td>1-2 Tahun</td>\n",
       "      <td>Pernah</td>\n",
       "      <td>2630.0</td>\n",
       "      <td>157.0</td>\n",
       "      <td>61.0</td>\n",
       "      <td>0</td>\n",
       "      <td>3.0</td>\n",
       "    </tr>\n",
       "  </tbody>\n",
       "</table>\n",
       "<p>5001 rows × 13 columns</p>\n",
       "</div>"
      ],
      "text/plain": [
       "            id Jenis_Kelamin  Umur  ...  Lama_Berlangganan  Tertarik  Cluster\n",
       "47          48        Wanita  44.0  ...              113.0         0      3.0\n",
       "152        153        Wanita  25.0  ...              205.0         0      3.0\n",
       "173        174          Pria  24.0  ...               98.0         0      3.0\n",
       "271        272        Wanita  23.0  ...               13.0         0      3.0\n",
       "277        278          Pria  60.0  ...               13.0         0      3.0\n",
       "...        ...           ...   ...  ...                ...       ...      ...\n",
       "170801  170802          Pria  58.0  ...              121.0         0      3.0\n",
       "170830  170831          Pria  27.0  ...              103.0         0      3.0\n",
       "170934  170935        Wanita  22.0  ...              271.0         0      3.0\n",
       "171028  171029        Wanita  51.0  ...               18.0         0      3.0\n",
       "171060  171061          Pria  43.0  ...               61.0         0      3.0\n",
       "\n",
       "[5001 rows x 13 columns]"
      ]
     },
     "execution_count": 20,
     "metadata": {
      "tags": []
     },
     "output_type": "execute_result"
    }
   ],
   "source": [
    "df[df[\"Cluster\"] == 3]"
   ]
  }
 ],
 "metadata": {
  "colab": {
   "collapsed_sections": [],
   "name": "Tubes-1301180347.ipynb",
   "provenance": [],
   "toc_visible": true
  },
  "kernelspec": {
   "display_name": "Python 3",
   "language": "python",
   "name": "python3"
  },
  "language_info": {
   "codemirror_mode": {
    "name": "ipython",
    "version": 3
   },
   "file_extension": ".py",
   "mimetype": "text/x-python",
   "name": "python",
   "nbconvert_exporter": "python",
   "pygments_lexer": "ipython3",
   "version": "3.8.8"
  }
 },
 "nbformat": 4,
 "nbformat_minor": 5
}
